{
 "cells": [
  {
   "attachments": {},
   "cell_type": "markdown",
   "id": "123456",
   "metadata": {},
   "source": [
    "<div style=\"text-align:left;font-size:2em\"><span style=\"font-weight:bolder;font-size:1.25em\">SP2273 | Learning Portfolio</span><br><br><span style=\"font-weight:bold;color:darkred\">Functions (Good) Exercises</span></div>"
   ]
  },
  {
   "cell_type": "markdown",
   "id": "a9aac73e-a7e0-4780-85d5-7e05a01749b2",
   "metadata": {},
   "source": [
    "## Exercise 1"
   ]
  },
  {
   "cell_type": "code",
   "execution_count": 31,
   "id": "5ab2f911-b6b6-4dad-946c-8c3d54ee62d7",
   "metadata": {},
   "outputs": [],
   "source": [
    "def convert_celsius(temperature_celsius,target_scale = 'fahrenheit'):\n",
    "    if target_scale.lower() == 'kelvin':\n",
    "        temperature_kelvin = temperature_celsius + 273.15\n",
    "        return temperature_kelvin\n",
    "    else:\n",
    "        temperature_fahrenheit = temperature_celsius * 1.8 + 32\n",
    "        return temperature_fahrenheit"
   ]
  },
  {
   "cell_type": "markdown",
   "id": "5e8f1bfe-dedb-4774-8721-9a8914351372",
   "metadata": {},
   "source": [
    "## Exercise 2"
   ]
  },
  {
   "cell_type": "code",
   "execution_count": 32,
   "id": "d941c364-0975-478b-8705-8cf97ca58def",
   "metadata": {},
   "outputs": [],
   "source": [
    "def convert_fahrenheit(temperature_fahrenheit,target_scale = 'celsius'):\n",
    "    temperature_celsius = (temperature_fahrenheit - 32) / 1.8\n",
    "    if target_scale.lower() == 'kelvin':\n",
    "        temperature_kelvin = temperature_celsius + 273.15\n",
    "        return temperature_kelvin\n",
    "    else:\n",
    "        return temperature_celsius"
   ]
  },
  {
   "cell_type": "markdown",
   "id": "6e28532c-173a-419f-ba71-283bdcf2de92",
   "metadata": {},
   "source": [
    "## Exercise 3"
   ]
  },
  {
   "cell_type": "code",
   "execution_count": 34,
   "id": "9e0d86b8-f1ee-4942-945c-e49f5afd7285",
   "metadata": {},
   "outputs": [
    {
     "name": "stdout",
     "output_type": "stream",
     "text": [
      "310.93\n"
     ]
    }
   ],
   "source": [
    "def convert_kelvin(temperature_kelvin,target_scale = 'celsius'):\n",
    "    temperature_celsius = temperature_kelvin - 273.15\n",
    "    if target_scale.lower() == 'fahrenheit':\n",
    "        temperature_fahrenheit = temperature_celsius * 1.8 + 32\n",
    "        return temperature_fahrenheit\n",
    "    else:\n",
    "        return temperature_celsius\n",
    "\n",
    "def convert_temperature(temperature,source_scale,target_scale):\n",
    "    if source_scale.lower() == 'fahrenheit':\n",
    "        print(f'{convert_fahrenheit(temperature,target_scale):.2f}')\n",
    "    elif source_scale.lower() == 'kelvin':\n",
    "        print(f'{convert_kelvin(temperature,target_scale):.2f}')\n",
    "    else:\n",
    "        print(f'{convert_celsius(temperature,target_scale):.2f}')\n",
    "        \n",
    "convert_temperature(100,'fahrenheit','kelvin')"
   ]
  }
 ],
 "metadata": {
  "kernelspec": {
   "display_name": "Python 3 (ipykernel)",
   "language": "python",
   "name": "python3"
  },
  "language_info": {
   "codemirror_mode": {
    "name": "ipython",
    "version": 3
   },
   "file_extension": ".py",
   "mimetype": "text/x-python",
   "name": "python",
   "nbconvert_exporter": "python",
   "pygments_lexer": "ipython3",
   "version": "3.12.2"
  },
  "toc": {
   "base_numbering": 1,
   "nav_menu": {},
   "number_sections": true,
   "sideBar": true,
   "skip_h1_title": false,
   "title_cell": "Table of Contents",
   "title_sidebar": "Contents",
   "toc_cell": false,
   "toc_position": {},
   "toc_section_display": true,
   "toc_window_display": false
  },
  "vscode": {
   "interpreter": {
    "hash": "31f2aee4e71d21fbe5cf8b01ff0e069b9275f58929596ceb00d14d90e3e16cd6"
   }
  }
 },
 "nbformat": 4,
 "nbformat_minor": 5
}
