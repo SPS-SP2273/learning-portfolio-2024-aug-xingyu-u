{
 "cells": [
  {
   "attachments": {},
   "cell_type": "markdown",
   "id": "123456",
   "metadata": {},
   "source": [
    "<div style=\"text-align:left;font-size:2em\"><span style=\"font-weight:bolder;font-size:1.25em\">SP2273 | Learning Portfolio</span><br><br><span style=\"font-weight:bold;color:darkred\">Functions (Good) Exercises</span></div>"
   ]
  },
  {
   "cell_type": "markdown",
   "id": "a9aac73e-a7e0-4780-85d5-7e05a01749b2",
   "metadata": {},
   "source": [
    "## Exercise 1"
   ]
  },
  {
   "cell_type": "code",
   "execution_count": null,
   "id": "3a18df86-1a3b-4c6a-aa30-5c492e52eeb1",
   "metadata": {},
   "outputs": [],
   "source": [
    "def convert_celsius(target_scale = 'fahrenheit'):\n",
    "    target_scale = input(\"Please key in the target scale for conversion (Fahrenheit/Kelvin)\\n\"\n",
    "\"Default is Fahrenheit:\") \n",
    "    temperature_celsius = float(input(\"Please key in a temperature in Celsius:\"))\n",
    "    if target_scale == 'Kelvin' or target_scale == 'kelvin':\n",
    "        temperature_kelvin = temperature_celsius + 273.15\n",
    "        print(f\"{temperature_kelvin:.2f}K\")\n",
    "    else:\n",
    "        temperature_fahrenheit = temperature_celsius * 1.8 + 32\n",
    "        print(f\"{temperature_fahrenheit:.2f}F\")\n",
    "\n",
    "convert_celsius()"
   ]
  },
  {
   "cell_type": "markdown",
   "id": "5e8f1bfe-dedb-4774-8721-9a8914351372",
   "metadata": {},
   "source": [
    "## Exercise 2"
   ]
  },
  {
   "cell_type": "code",
   "execution_count": null,
   "id": "d941c364-0975-478b-8705-8cf97ca58def",
   "metadata": {},
   "outputs": [],
   "source": [
    "def convert_fahrenheit(target_scale = 'celsius'):\n",
    "    target_scale = input(\"Please key in the target scale for conversion (Celsius/Kelvin)\\n\"\n",
    "\"Default is Celsius:\") \n",
    "    temperature_fahrenheit = float(input(\"Please key in a temperature in Fahrenheit:\"))\n",
    "    temperature_celsius = (temperature_fahrenheit - 32) / 1.8\n",
    "    if target_scale == 'Kelvin' or target_scale == 'kelvin':\n",
    "        temperature_kelvin = temperature_celsius + 273.15\n",
    "        print(f\"{temperature_kelvin:.2f}K\")\n",
    "    else:\n",
    "        print(f\"{temperature_celsius:.2f}C\")\n",
    "\n",
    "convert_fahrenheit()"
   ]
  },
  {
   "cell_type": "markdown",
   "id": "6e28532c-173a-419f-ba71-283bdcf2de92",
   "metadata": {},
   "source": [
    "## Exercise 3"
   ]
  },
  {
   "cell_type": "code",
   "execution_count": 2,
   "id": "9e0d86b8-f1ee-4942-945c-e49f5afd7285",
   "metadata": {},
   "outputs": [
    {
     "name": "stdin",
     "output_type": "stream",
     "text": [
      "Please key in the source scale for conversion (Celsius/Fahrenheit/Kelvin):\n",
      "Default is Celsius: fahrenheit\n",
      "Please key in the target scale for conversion (Celsius/Kelvin)\n",
      "Default is Celsius: kelvin\n",
      "Please key in a temperature in Fahrenheit: 2\n"
     ]
    },
    {
     "name": "stdout",
     "output_type": "stream",
     "text": [
      "256.48K\n"
     ]
    }
   ],
   "source": [
    "def convert_celsius(target_scale = 'fahrenheit'):\n",
    "    target_scale = input(\"Please key in the target scale for conversion (Fahrenheit/Kelvin)\\n\"\n",
    "\"Default is Fahrenheit:\") \n",
    "    temperature_celsius = float(input(\"Please key in a temperature in Celsius:\"))\n",
    "    if target_scale == 'Kelvin' or target_scale == 'kelvin':\n",
    "        temperature_kelvin = temperature_celsius + 273.15\n",
    "        print(f\"{temperature_kelvin:.2f}K\")\n",
    "    else:\n",
    "        temperature_fahrenheit = temperature_celsius * 1.8 + 32\n",
    "        print(f\"{temperature_fahrenheit:.2f}F\")\n",
    "\n",
    "def convert_fahrenheit(target_scale = 'celsius'):\n",
    "    target_scale = input(\"Please key in the target scale for conversion (Celsius/Kelvin)\\n\"\n",
    "\"Default is Celsius:\") \n",
    "    temperature_fahrenheit = float(input(\"Please key in a temperature in Fahrenheit:\"))\n",
    "    temperature_celsius = (temperature_fahrenheit - 32) / 1.8\n",
    "    if target_scale == 'Kelvin' or target_scale == 'kelvin':\n",
    "        temperature_kelvin = temperature_celsius + 273.15\n",
    "        print(f\"{temperature_kelvin:.2f}K\")\n",
    "    else:\n",
    "        print(f\"{temperature_celsius:.2f}C\")\n",
    "\n",
    "def convert_kelvin(target_scale = 'celsius'):\n",
    "    target_scale = input(\"Please key in the target scale for conversion (Celsius/Fahrenheit)\\n\"\n",
    "\"Default is Celsius:\") \n",
    "    temperature_kelvin = float(input(\"Please key in a temperature in Kelvin:\"))\n",
    "    temperature_celsius = temperature_kelvin - 273.15\n",
    "    if target_scale == 'Fahrenheit' or target_scale == 'fahrenheit':\n",
    "        temperature_fahrenheit = temperature_celsius * 1.8 + 32\n",
    "        print(f\"{temperature_fahrenheit:.2f}F\")\n",
    "    else:\n",
    "        print(f\"{temperature_celsius:.2f}C\")\n",
    "\n",
    "def convert_temperature(source_scale = 'celsius'):\n",
    "    source_scale = input(\"Please key in the source scale for conversion (Celsius/Fahrenheit/Kelvin):\\n\"\n",
    "    \"Default is Celsius:\") \n",
    "    if source_scale == 'Fahrenheit' or source_scale == 'fahrenheit':\n",
    "        convert_fahrenheit()\n",
    "    elif source_scale == 'Kelvin' or source_scale == 'kelvin':\n",
    "        convert_kelvin()\n",
    "    else:\n",
    "        convert_celsius()\n",
    "        \n",
    "convert_temperature()"
   ]
  }
 ],
 "metadata": {
  "kernelspec": {
   "display_name": "Python 3 (ipykernel)",
   "language": "python",
   "name": "python3"
  },
  "language_info": {
   "codemirror_mode": {
    "name": "ipython",
    "version": 3
   },
   "file_extension": ".py",
   "mimetype": "text/x-python",
   "name": "python",
   "nbconvert_exporter": "python",
   "pygments_lexer": "ipython3",
   "version": "3.12.2"
  },
  "toc": {
   "base_numbering": 1,
   "nav_menu": {},
   "number_sections": true,
   "sideBar": true,
   "skip_h1_title": false,
   "title_cell": "Table of Contents",
   "title_sidebar": "Contents",
   "toc_cell": false,
   "toc_position": {},
   "toc_section_display": true,
   "toc_window_display": false
  },
  "vscode": {
   "interpreter": {
    "hash": "31f2aee4e71d21fbe5cf8b01ff0e069b9275f58929596ceb00d14d90e3e16cd6"
   }
  }
 },
 "nbformat": 4,
 "nbformat_minor": 5
}
