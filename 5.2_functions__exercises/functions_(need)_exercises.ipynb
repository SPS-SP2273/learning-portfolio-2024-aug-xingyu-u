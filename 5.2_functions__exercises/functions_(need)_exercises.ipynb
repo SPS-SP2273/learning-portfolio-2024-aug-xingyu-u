{
 "cells": [
  {
   "attachments": {},
   "cell_type": "markdown",
   "id": "123456",
   "metadata": {},
   "source": [
    "<div style=\"text-align:left;font-size:2em\"><span style=\"font-weight:bolder;font-size:1.25em\">SP2273 | Learning Portfolio</span><br><br><span style=\"font-weight:bold;color:darkred\">Functions (Need) Exercises</span></div>"
   ]
  },
  {
   "cell_type": "markdown",
   "id": "5618d322-71fb-48b8-a70a-58e29a4a7939",
   "metadata": {},
   "source": [
    "## Exercise 1"
   ]
  },
  {
   "cell_type": "markdown",
   "id": "5adcfbed-1417-496a-a51d-e8d57404551f",
   "metadata": {},
   "source": [
    "When the 'if' condition isn't met, Python will execute **return f'Hello {name}!'**."
   ]
  },
  {
   "cell_type": "markdown",
   "id": "adc4ea0b-9eb3-4e34-bcb1-eccd2be259e2",
   "metadata": {},
   "source": [
    "## Exercise 2"
   ]
  },
  {
   "cell_type": "code",
   "execution_count": 8,
   "id": "f58a9879-6602-42c8-99c0-5c0ef02bc178",
   "metadata": {},
   "outputs": [
    {
     "name": "stdin",
     "output_type": "stream",
     "text": [
      "Please key in your weight (in kilograms) -53\n",
      "Please key in your height (in meters) 1.7\n"
     ]
    },
    {
     "name": "stdout",
     "output_type": "stream",
     "text": [
      "Your BMI is -18.34\n"
     ]
    },
    {
     "data": {
      "text/plain": [
       "'Invalid input'"
      ]
     },
     "execution_count": 8,
     "metadata": {},
     "output_type": "execute_result"
    }
   ],
   "source": [
    "def calculate_bmi(weight, height):\n",
    "    BMI = weight / (height ** 2)\n",
    "    print(f'Your BMI is {BMI:.2f}')\n",
    "    if 0 <= BMI < 18.5:\n",
    "        return 'You are underweight!'\n",
    "    elif 18.5 <= BMI < 25:\n",
    "        return 'You weight in normal!'\n",
    "    elif 25 <= BMI < 30:\n",
    "         return 'You are overweight!'\n",
    "    elif BMI >= 30:\n",
    "         return 'You are obesed!'\n",
    "    else:\n",
    "        return 'Invalid input'\n",
    "\n",
    "weight = float(input('Please key in your weight (in kilograms)'))\n",
    "height = float(input('Please key in your height (in meters)'))\n",
    "calculate_bmi(weight, height)"
   ]
  },
  {
   "cell_type": "markdown",
   "id": "7b810b27-90a4-4383-9056-831a292ed4dc",
   "metadata": {},
   "source": [
    "## Exercise 3"
   ]
  },
  {
   "cell_type": "code",
   "execution_count": 19,
   "id": "6a1f3540-3748-439f-a8a6-402adfe3e6d5",
   "metadata": {},
   "outputs": [
    {
     "name": "stdin",
     "output_type": "stream",
     "text": [
      "Please key in a positive integer: -3\n"
     ]
    },
    {
     "name": "stdout",
     "output_type": "stream",
     "text": [
      "Invalid input, please key in a positive integer!\n",
      "None\n"
     ]
    }
   ],
   "source": [
    "def factorial(n):\n",
    "    fac = 1\n",
    "    if n == 0:\n",
    "        return fac\n",
    "    elif n > 0:\n",
    "        for number in range(1,n+1):\n",
    "            fac *= number\n",
    "        return fac\n",
    "    else:\n",
    "        print('Invalid input, please key in a positive integer!')\n",
    "\n",
    "n = input('Please key in a positive integer:')\n",
    "try:  #check if n is an integer\n",
    "    print(factorial(int(n)))\n",
    "except:\n",
    "    print('Invalid input, please key in a positive integer!')"
   ]
  }
 ],
 "metadata": {
  "kernelspec": {
   "display_name": "Python 3 (ipykernel)",
   "language": "python",
   "name": "python3"
  },
  "language_info": {
   "codemirror_mode": {
    "name": "ipython",
    "version": 3
   },
   "file_extension": ".py",
   "mimetype": "text/x-python",
   "name": "python",
   "nbconvert_exporter": "python",
   "pygments_lexer": "ipython3",
   "version": "3.12.2"
  },
  "toc": {
   "base_numbering": 1,
   "nav_menu": {},
   "number_sections": true,
   "sideBar": true,
   "skip_h1_title": false,
   "title_cell": "Table of Contents",
   "title_sidebar": "Contents",
   "toc_cell": false,
   "toc_position": {},
   "toc_section_display": true,
   "toc_window_display": false
  },
  "vscode": {
   "interpreter": {
    "hash": "31f2aee4e71d21fbe5cf8b01ff0e069b9275f58929596ceb00d14d90e3e16cd6"
   }
  }
 },
 "nbformat": 4,
 "nbformat_minor": 5
}
