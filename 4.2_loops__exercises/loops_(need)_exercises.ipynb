{
 "cells": [
  {
   "attachments": {},
   "cell_type": "markdown",
   "id": "123456",
   "metadata": {},
   "source": [
    "<div style=\"text-align:left;font-size:2em\"><span style=\"font-weight:bolder;font-size:1.25em\">SP2273 | Learning Portfolio</span><br><br><span style=\"font-weight:bold;color:darkred\">Loops (Need) Exercises</span></div>"
   ]
  },
  {
   "cell_type": "markdown",
   "id": "166d3fc0-3f4b-4c08-89ca-02ba812afeeb",
   "metadata": {},
   "source": [
    "## Exercise 1"
   ]
  },
  {
   "cell_type": "code",
   "execution_count": 21,
   "id": "477f37ae-a856-4fd4-a723-3ac8bb4b4a2f",
   "metadata": {},
   "outputs": [
    {
     "name": "stdout",
     "output_type": "stream",
     "text": [
      "0,32.0\n",
      "5,41.0\n",
      "10,50.0\n",
      "15,59.0\n",
      "20,68.0\n",
      "25,77.0\n",
      "30,86.0\n",
      "35,95.0\n",
      "40,104.0\n",
      "45,113.0\n",
      "50,122.0\n"
     ]
    }
   ],
   "source": [
    "import numpy as np\n",
    "temperatures_celsius = np.array([\n",
    "    0, 5, 10, 15, 20, 25,\n",
    "    30, 35, 40, 45, 50])\n",
    "temperatures_fahrenheit = temperatures_celsius*1.8+32\n",
    "\n",
    "for index,celcius in enumerate(temperatures_celsius):\n",
    "    print(f\"{temperatures_celsius[index]},{temperatures_fahrenheit[index]}\")"
   ]
  },
  {
   "cell_type": "markdown",
   "id": "d850db47-abff-45aa-877d-7702de91ad60",
   "metadata": {},
   "source": [
    "## Exercise 2"
   ]
  },
  {
   "cell_type": "code",
   "execution_count": 44,
   "id": "59de5a38-aff6-453c-bd98-e277c52d57fe",
   "metadata": {},
   "outputs": [
    {
     "name": "stdout",
     "output_type": "stream",
     "text": [
      "1:1\t2\t3\t4\t5\t\n",
      "\n",
      "2:2\t4\t6\t8\t10\t\n",
      "\n",
      "3:3\t6\t9\t12\t15\t\n",
      "\n",
      "4:4\t8\t12\t16\t20\t\n",
      "\n",
      "5:5\t10\t15\t20\t25\t\n",
      "\n"
     ]
    }
   ],
   "source": [
    "for number_1 in [1, 2, 3, 4, 5]:\n",
    "    print(f'{number_1}:', end='')\n",
    "    for number_2 in [1, 2, 3, 4, 5]:\n",
    "        product = number_1*number_2\n",
    "        print(f'{product}', end='\\t')\n",
    "    print('\\n')"
   ]
  },
  {
   "cell_type": "markdown",
   "id": "65e5676c-6e43-43e4-b3d0-84b5ee2504b3",
   "metadata": {},
   "source": [
    "## Exercise 3"
   ]
  },
  {
   "cell_type": "code",
   "execution_count": 59,
   "id": "cc3ad5ec-f0ec-441d-ab32-087cfb31a443",
   "metadata": {},
   "outputs": [
    {
     "name": "stdout",
     "output_type": "stream",
     "text": [
      "Experiment  1: No. of Heads = 8\n",
      "Experiment  2: No. of Heads = 5\n",
      "Experiment  3: No. of Heads = 9\n",
      "Experiment  4: No. of Heads = 8\n",
      "Experiment  5: No. of Heads = 6\n",
      "Experiment  6: No. of Heads = 6\n",
      "Experiment  7: No. of Heads = 3\n",
      "Experiment  8: No. of Heads = 8\n",
      "Experiment  9: No. of Heads = 4\n",
      "Experiment 10: No. of Heads = 3\n"
     ]
    }
   ],
   "source": [
    "for number in range(10):\n",
    "    count = (np.random.rand(10)>0.5).sum()\n",
    "    print(f'Experiment{number+1:3}: No. of Heads = {count}')"
   ]
  }
 ],
 "metadata": {
  "kernelspec": {
   "display_name": "Python 3 (ipykernel)",
   "language": "python",
   "name": "python3"
  },
  "language_info": {
   "codemirror_mode": {
    "name": "ipython",
    "version": 3
   },
   "file_extension": ".py",
   "mimetype": "text/x-python",
   "name": "python",
   "nbconvert_exporter": "python",
   "pygments_lexer": "ipython3",
   "version": "3.12.2"
  },
  "toc": {
   "base_numbering": 1,
   "nav_menu": {},
   "number_sections": true,
   "sideBar": true,
   "skip_h1_title": false,
   "title_cell": "Table of Contents",
   "title_sidebar": "Contents",
   "toc_cell": false,
   "toc_position": {},
   "toc_section_display": true,
   "toc_window_display": false
  },
  "vscode": {
   "interpreter": {
    "hash": "31f2aee4e71d21fbe5cf8b01ff0e069b9275f58929596ceb00d14d90e3e16cd6"
   }
  }
 },
 "nbformat": 4,
 "nbformat_minor": 5
}
