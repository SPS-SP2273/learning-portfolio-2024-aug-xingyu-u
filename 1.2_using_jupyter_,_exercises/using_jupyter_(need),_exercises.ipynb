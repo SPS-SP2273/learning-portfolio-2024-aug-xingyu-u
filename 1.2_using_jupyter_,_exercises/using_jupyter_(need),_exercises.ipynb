{
 "cells": [
  {
   "attachments": {},
   "cell_type": "markdown",
   "id": "123456",
   "metadata": {},
   "source": [
    "<div style=\"text-align:left;font-size:2em\"><span style=\"font-weight:bolder;font-size:1.25em\">SP2273 | Learning Portfolio</span><br><br><span style=\"font-weight:bold;color:darkred\">Using Jupyter (Need), Exercises</span></div>"
   ]
  },
  {
   "attachments": {},
   "cell_type": "markdown",
   "id": "5db03490",
   "metadata": {},
   "source": [
    "## **1 Quadratic Equations**"
   ]
  },
  {
   "attachments": {},
   "cell_type": "markdown",
   "id": "0343dc09",
   "metadata": {},
   "source": [
    "### **Introduction**"
   ]
  },
  {
   "cell_type": "markdown",
   "id": "f2e4d833-4903-414c-8b3e-206aae409086",
   "metadata": {},
   "source": [
    "![](https://upload.wikimedia.org/wikipedia/commons/thumb/f/f8/Polynomialdeg2.svg/300px-Polynomialdeg2.svg.png)\n",
    "<br>(*Image from the [Wikipedia page on Quadratic equations](https://en.wikipedia.org/wiki/Quadratic_equation)*)\n",
    "<br>The general form of a quadratic equation is:\n",
    "$$\n",
    "ax^2+bx+c=0\n",
    "$$\n"
   ]
  },
  {
   "attachments": {},
   "cell_type": "markdown",
   "id": "c89878ef",
   "metadata": {},
   "source": [
    "### **Solutions**"
   ]
  },
  {
   "cell_type": "markdown",
   "id": "452abcaf-74d3-4d28-9400-c6a0253a52e6",
   "metadata": {},
   "source": [
    "Provided $a \\ne 0$, we can use an elementary algebraic method called [completing the square](https://en.wikipedia.org/wiki/Completing_the_square) to show that a quadratic equation has the following solution:\n",
    "$$\n",
    "x = \\dfrac{-b \\pm \\sqrt{b^2-4ac}}{2a}\n",
    "$$\n"
   ]
  },
  {
   "attachments": {},
   "cell_type": "markdown",
   "id": "bb1fee9a",
   "metadata": {},
   "source": [
    "### **Discriminant**"
   ]
  },
  {
   "cell_type": "markdown",
   "id": "38411d96-fa50-49b0-a033-ed3b2c22ed84",
   "metadata": {},
   "source": [
    "The quantity $\\Delta=b^2-4ac$ is called the **discriminant** of the equation and decides the nature of its solutions. The table below shows the various possibilities. \n",
    "|**Discriminant**|**Roots**|\n",
    "|:--:|:---|\n",
    "|$\\Delta=b^2-4ac=0$|A single solution of $-b/(2a)$|\n",
    "|$\\Delta=b^2-4ac>0$|Two distinct solutions|\n",
    "|$\\Delta=b^2-4ac<0$|No real solutions; both are complex.|"
   ]
  },
  {
   "cell_type": "markdown",
   "id": "91a7c8a0-17c3-4015-b7c0-bb5cd4070986",
   "metadata": {},
   "source": [
    "## Exercise 2"
   ]
  },
  {
   "cell_type": "markdown",
   "id": "1c60f85a-b55a-4e5f-8510-2673d90baf45",
   "metadata": {},
   "source": [
    "1. A Git repository is a storage location that tracks all changes made to files in the project.\n",
    "2. Git keeps tracks of **changes** in the files in our repository.\n",
    "3. A commit is a snapshot or a milestone along the timeline of a Git project.\n",
    "4. A push is used to upload local repository content to a remote repository.\n",
    "5. A pull is to fetch and download content from a remote repository and immediately update the local repository to match that content.\n",
    "6. GitHub is a cloud-based hosting platform that enables developers to manage their Git repositories. GitHub Desktop is an application that lets users interact better with GitHub through a GUI."
   ]
  },
  {
   "cell_type": "markdown",
   "id": "ae226535-4716-4eea-b1f5-825579004bf2",
   "metadata": {},
   "source": [
    "## Exercise 3"
   ]
  },
  {
   "cell_type": "markdown",
   "id": "1cd1937f-2905-40e4-8e02-a0043302c04d",
   "metadata": {},
   "source": [
    "$$\\mu = \\dfrac{1}{n}\\sum_{i=1}^{n}x_i $$\n",
    "$$\\sigma = \\sqrt{\\dfrac{1}{n}\\sum_{i=1}^{n}(x_i-\\mu)^2} $$\n",
    "$$ r = \\dfrac{\\sum_{i=1}^{n}(x_i-\\mu_X)(y_i-\\mu_Y)}{\\sqrt{\\sum_{i=1}^{n}(x_i-\\mu_X)^2\\sum_{i=1}^{n}(y_i-\\mu_Y)^2}}$$"
   ]
  }
 ],
 "metadata": {
  "kernelspec": {
   "display_name": "Python 3 (ipykernel)",
   "language": "python",
   "name": "python3"
  },
  "language_info": {
   "codemirror_mode": {
    "name": "ipython",
    "version": 3
   },
   "file_extension": ".py",
   "mimetype": "text/x-python",
   "name": "python",
   "nbconvert_exporter": "python",
   "pygments_lexer": "ipython3",
   "version": "3.12.2"
  },
  "toc": {
   "base_numbering": 1,
   "nav_menu": {},
   "number_sections": true,
   "sideBar": true,
   "skip_h1_title": false,
   "title_cell": "Table of Contents",
   "title_sidebar": "Contents",
   "toc_cell": false,
   "toc_position": {},
   "toc_section_display": true,
   "toc_window_display": false
  },
  "vscode": {
   "interpreter": {
    "hash": "31f2aee4e71d21fbe5cf8b01ff0e069b9275f58929596ceb00d14d90e3e16cd6"
   }
  }
 },
 "nbformat": 4,
 "nbformat_minor": 5
}
