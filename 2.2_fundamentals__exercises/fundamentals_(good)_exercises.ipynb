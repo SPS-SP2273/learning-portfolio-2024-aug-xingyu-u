{
 "cells": [
  {
   "attachments": {},
   "cell_type": "markdown",
   "id": "123456",
   "metadata": {},
   "source": [
    "<div style=\"text-align:left;font-size:2em\"><span style=\"font-weight:bolder;font-size:1.25em\">SP2273 | Learning Portfolio</span><br><br><span style=\"font-weight:bold;color:darkred\">Fundamentals (Good) Exercises</span></div>"
   ]
  },
  {
   "cell_type": "markdown",
   "id": "b3329795-e183-4c22-a8ad-55f3b38093f7",
   "metadata": {},
   "source": [
    "## Exercise 1"
   ]
  },
  {
   "cell_type": "markdown",
   "id": "3c272bf5-9a1a-441e-a0af-c2c089accbdc",
   "metadata": {},
   "source": [
    "### Task 1"
   ]
  },
  {
   "cell_type": "code",
   "execution_count": null,
   "id": "d3ef4be5-fb62-4941-a229-516aef7bdfb8",
   "metadata": {},
   "outputs": [],
   "source": [
    "NAME = input('Please provide me with your name!')\n",
    "print(f'How you doin {NAME}!')"
   ]
  },
  {
   "cell_type": "markdown",
   "id": "afdd8bd8-dc34-4800-ae5c-bf12c18ee826",
   "metadata": {},
   "source": [
    "### Task 2"
   ]
  },
  {
   "cell_type": "code",
   "execution_count": null,
   "id": "0137ddc1-1d9a-470c-9323-c231baea8c7c",
   "metadata": {},
   "outputs": [],
   "source": [
    "NAME = input('Please provide me with your name')\n",
    "AGE = input ('Please provide me with your age')\n",
    "print(f'My name is {NAME} and I am {AGE} years old.')"
   ]
  },
  {
   "cell_type": "markdown",
   "id": "3464e1fe-bd7e-4589-8bc5-437c67a49fe6",
   "metadata": {},
   "source": [
    "### Task 3"
   ]
  },
  {
   "cell_type": "code",
   "execution_count": null,
   "id": "0fd8c0a0-bbe4-43e9-a553-79a19413420b",
   "metadata": {},
   "outputs": [],
   "source": [
    "pi = 3.141592653589793\n",
    "print(f'The value of pi to 2 decimal places is: {pi:.2f}\\n'\n",
    "f'The value of pi to 3 decimal places is: {pi:.3f}\\n'\n",
    "f'The value of pi to 4 decimal places is: {pi:.4f}')"
   ]
  },
  {
   "cell_type": "markdown",
   "id": "b4ade34d-77fe-4990-b235-41d75ab915e8",
   "metadata": {},
   "source": [
    "### Task 4"
   ]
  },
  {
   "cell_type": "code",
   "execution_count": null,
   "id": "0ac0032b-c1d2-4c2a-b387-81227b4612bb",
   "metadata": {},
   "outputs": [],
   "source": [
    "print(f'{'Apple':<10}' '$'f'{0.99:>5}\\n'\n",
    "f'{'Banana':<10}' '$'f'{0.59:>5}\\n'\n",
    "f'{'Orange':<10}' '$'f'{1.29:>5}\\n')"
   ]
  },
  {
   "cell_type": "markdown",
   "id": "d551471b-5dbb-4a38-b204-7feef530a4bf",
   "metadata": {},
   "source": [
    "## Exercise 2"
   ]
  },
  {
   "cell_type": "code",
   "execution_count": 9,
   "id": "e7406ee4-0130-4a16-a584-3ecb521fe260",
   "metadata": {},
   "outputs": [
    {
     "name": "stdin",
     "output_type": "stream",
     "text": [
      "Enter the student's score: 35\n"
     ]
    },
    {
     "name": "stdout",
     "output_type": "stream",
     "text": [
      "The student's letter grade is: C\n"
     ]
    }
   ],
   "source": [
    "SCORE = float(input('Enter the student\\'s score:'))\n",
    "\n",
    "if 0<=SCORE<=34:\n",
    "    print('The student\\'s letter grade is: Fail')\n",
    "elif 35<=SCORE<=49:\n",
    "    print('The student\\'s letter grade is: C')\n",
    "elif 50<=SCORE<=69:\n",
    "    print('The student\\'s letter grade is: B')\n",
    "elif 70<=SCORE<=100:\n",
    "    print('The student\\'s letter grade is: A')\n",
    "else:\n",
    "    print('Please enter a valid score (from 0 to 100)')"
   ]
  },
  {
   "cell_type": "markdown",
   "id": "8d489c29-90d3-49d6-8b0e-4a99a106ebc3",
   "metadata": {},
   "source": [
    "## Exercise 3"
   ]
  },
  {
   "cell_type": "code",
   "execution_count": 17,
   "id": "8b504a31-afc1-47e6-9f82-53a2d9721191",
   "metadata": {},
   "outputs": [
    {
     "name": "stdout",
     "output_type": "stream",
     "text": [
      "120\n",
      "Invalid input\n"
     ]
    }
   ],
   "source": [
    "def factorial(n):\n",
    "    if n > 0:\n",
    "        result = 1  \n",
    "        for number in range(1, n+1):\n",
    "            result *= number\n",
    "        return result\n",
    "    elif n == 0:\n",
    "        return 1\n",
    "    else:\n",
    "        return \"Invalid input\"\n",
    "        \n",
    "      \n",
    "print(factorial(5))   # Testing, expected output: 120\n",
    "print(factorial(-1))  # Testing, expected output: Invalid input"
   ]
  }
 ],
 "metadata": {
  "kernelspec": {
   "display_name": "Python 3 (ipykernel)",
   "language": "python",
   "name": "python3"
  },
  "language_info": {
   "codemirror_mode": {
    "name": "ipython",
    "version": 3
   },
   "file_extension": ".py",
   "mimetype": "text/x-python",
   "name": "python",
   "nbconvert_exporter": "python",
   "pygments_lexer": "ipython3",
   "version": "3.12.2"
  },
  "toc": {
   "base_numbering": 1,
   "nav_menu": {},
   "number_sections": true,
   "sideBar": true,
   "skip_h1_title": false,
   "title_cell": "Table of Contents",
   "title_sidebar": "Contents",
   "toc_cell": false,
   "toc_position": {},
   "toc_section_display": true,
   "toc_window_display": false
  },
  "vscode": {
   "interpreter": {
    "hash": "31f2aee4e71d21fbe5cf8b01ff0e069b9275f58929596ceb00d14d90e3e16cd6"
   }
  }
 },
 "nbformat": 4,
 "nbformat_minor": 5
}
