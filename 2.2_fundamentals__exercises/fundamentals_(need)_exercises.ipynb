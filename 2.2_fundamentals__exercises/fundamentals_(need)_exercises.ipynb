{
 "cells": [
  {
   "attachments": {},
   "cell_type": "markdown",
   "id": "123456",
   "metadata": {},
   "source": [
    "<div style=\"text-align:left;font-size:2em\"><span style=\"font-weight:bolder;font-size:1.25em\">SP2273 | Learning Portfolio</span><br><br><span style=\"font-weight:bold;color:darkred\">Fundamentals (Need) Exercises</span></div>"
   ]
  },
  {
   "cell_type": "markdown",
   "id": "cf532cc1-c970-42c9-9154-685aa3237c3f",
   "metadata": {},
   "source": [
    "### Exercise 1"
   ]
  },
  {
   "cell_type": "markdown",
   "id": "02e5a427-9894-4b3f-ba4c-26fdf17fdd4b",
   "metadata": {},
   "source": [
    "fuction, math, split, making decisions, *list, dictionary, import*"
   ]
  },
  {
   "cell_type": "markdown",
   "id": "97782305-85a6-4603-9162-550f9bd5a6aa",
   "metadata": {},
   "source": [
    "### Exercise 2"
   ]
  },
  {
   "cell_type": "code",
   "execution_count": 3,
   "id": "cd241138-f67c-4eb1-bbb0-ee5ea1e94254",
   "metadata": {},
   "outputs": [
    {
     "name": "stdout",
     "output_type": "stream",
     "text": [
      "3 4 5.0\n"
     ]
    }
   ],
   "source": [
    "import math\n",
    "x, y = 3, 4\n",
    "z = math.sqrt(x**2 + y**2)\n",
    "print(x, y, z)"
   ]
  },
  {
   "cell_type": "markdown",
   "id": "6ae5694d-ae4f-4943-a791-a6be1939e02a",
   "metadata": {},
   "source": [
    "### Exercise 3"
   ]
  },
  {
   "cell_type": "markdown",
   "id": "3c4fca97-e95a-4b72-8156-ac97d2d71ce5",
   "metadata": {},
   "source": [
    "|#|Term|Description|\n",
    "|:--|:--|:---|\n",
    "|1|Fuction|It runs a specific task.|\n",
    "|2|Arguments|They describe the variables or content of the task.|\n",
    "|3|Comments|They are additional information that is not interpreted by Python.|\n",
    "|4|Indentations|They separate different blocks of code for them to run properly.|\n",
    "|5|Packages|They give extra functionalities to Python.|\n",
    "|6|.|It indicates ownership, and what it can access depends on the context.|\n",
    "|7|:|It is used in if to define what to do when the answer is True and what to do when the answer is False.|\n",
    "|8|[]|It indicates a 1D list.|\n",
    "|9|[[],[]]|It indicates a 2D list.|\n",
    "|10|{}|It stores data in dictionary.|"
   ]
  },
  {
   "cell_type": "markdown",
   "id": "295f269d-5a0d-4e65-a6be-1e133dd235c9",
   "metadata": {},
   "source": [
    "### Exercise 4"
   ]
  },
  {
   "cell_type": "code",
   "execution_count": 7,
   "id": "39aaa931-aaaa-45ed-be36-aa0e4f331058",
   "metadata": {},
   "outputs": [
    {
     "data": {
      "text/plain": [
       "2.5"
      ]
     },
     "execution_count": 7,
     "metadata": {},
     "output_type": "execute_result"
    }
   ],
   "source": [
    "5/2 #This gives an accurate answer."
   ]
  },
  {
   "cell_type": "code",
   "execution_count": 6,
   "id": "729ab3ce-2f4c-4e75-bf05-45f62afa0f0b",
   "metadata": {},
   "outputs": [
    {
     "data": {
      "text/plain": [
       "2"
      ]
     },
     "execution_count": 6,
     "metadata": {},
     "output_type": "execute_result"
    }
   ],
   "source": [
    "5//2 #This gives the answer rounded down to an integer."
   ]
  },
  {
   "cell_type": "code",
   "execution_count": 12,
   "id": "9fe3a0b8-4962-475d-a3b3-100db1773036",
   "metadata": {},
   "outputs": [
    {
     "data": {
      "text/plain": [
       "2"
      ]
     },
     "execution_count": 12,
     "metadata": {},
     "output_type": "execute_result"
    }
   ],
   "source": [
    "5%2 #This gives the remainder of the division."
   ]
  }
 ],
 "metadata": {
  "kernelspec": {
   "display_name": "Python 3 (ipykernel)",
   "language": "python",
   "name": "python3"
  },
  "language_info": {
   "codemirror_mode": {
    "name": "ipython",
    "version": 3
   },
   "file_extension": ".py",
   "mimetype": "text/x-python",
   "name": "python",
   "nbconvert_exporter": "python",
   "pygments_lexer": "ipython3",
   "version": "3.12.2"
  },
  "toc": {
   "base_numbering": 1,
   "nav_menu": {},
   "number_sections": true,
   "sideBar": true,
   "skip_h1_title": false,
   "title_cell": "Table of Contents",
   "title_sidebar": "Contents",
   "toc_cell": false,
   "toc_position": {},
   "toc_section_display": true,
   "toc_window_display": false
  },
  "vscode": {
   "interpreter": {
    "hash": "31f2aee4e71d21fbe5cf8b01ff0e069b9275f58929596ceb00d14d90e3e16cd6"
   }
  }
 },
 "nbformat": 4,
 "nbformat_minor": 5
}
