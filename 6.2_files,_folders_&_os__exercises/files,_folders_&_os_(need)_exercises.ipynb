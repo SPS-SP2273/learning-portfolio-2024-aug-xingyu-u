{
 "cells": [
  {
   "attachments": {},
   "cell_type": "markdown",
   "id": "123456",
   "metadata": {},
   "source": [
    "<div style=\"text-align:left;font-size:2em\"><span style=\"font-weight:bolder;font-size:1.25em\">SP2273 | Learning Portfolio</span><br><br><span style=\"font-weight:bold;color:darkred\">Files, Folders & OS (Need) Exercises</span></div>"
   ]
  },
  {
   "cell_type": "markdown",
   "id": "a7631aed-12ac-46cd-8389-f879fccd3283",
   "metadata": {},
   "source": [
    "## Task 1"
   ]
  },
  {
   "cell_type": "code",
   "execution_count": 41,
   "id": "ccc2bd71-30ac-4787-8301-8132f8861e87",
   "metadata": {},
   "outputs": [
    {
     "name": "stdout",
     "output_type": "stream",
     "text": [
      "10-08-singapore.txt\n"
     ]
    }
   ],
   "source": [
    "months_dict = {\n",
    "'jan': '01', 'feb': '02', 'mar': '03',\n",
    "'apr': '04', 'may': '05', 'jun': '06',\n",
    "'jul': '07', 'aug': '08', 'sep': '09',\n",
    "'oct': '10', 'nov': '11', 'dec': '12'\n",
    "}\n",
    "\n",
    "date = \"oct-08_singapore.txt\"\n",
    "\n",
    "for month,num in months_dict.items():\n",
    "    date = date.replace(month,num)\n",
    "    date = date.replace(\"_\",\"-\")\n",
    "print(date)\n"
   ]
  },
  {
   "cell_type": "markdown",
   "id": "7f04daec-c18b-4ad4-99a4-44ca637e5591",
   "metadata": {},
   "source": [
    "## Task 2"
   ]
  },
  {
   "cell_type": "code",
   "execution_count": 39,
   "id": "fe094b47-500d-4c50-9a85-5ba1eb046990",
   "metadata": {},
   "outputs": [
    {
     "data": {
      "text/plain": [
       "'10-08-singapore.txt'"
      ]
     },
     "execution_count": 39,
     "metadata": {},
     "output_type": "execute_result"
    }
   ],
   "source": [
    "def rename_my_file(file_name):\n",
    "\n",
    "    months_dict = {\n",
    "'jan': '01', 'feb': '02', 'mar': '03',\n",
    "'apr': '04', 'may': '05', 'jun': '06',\n",
    "'jul': '07', 'aug': '08', 'sep': '09',\n",
    "'oct': '10', 'nov': '11', 'dec': '12'\n",
    "}\n",
    "\n",
    "    for month,num in months_dict.items():\n",
    "        file_name = file_name.replace(month,num)\n",
    "        file_name = file_name.replace(\"_\",\"-\")\n",
    "    return file_name\n",
    "\n",
    "rename_my_file(\"oct-08_singapore.txt\")\n"
   ]
  },
  {
   "cell_type": "markdown",
   "id": "0028b645-2511-48ae-babe-28d44eb00f3a",
   "metadata": {},
   "source": [
    "## Task 3"
   ]
  },
  {
   "cell_type": "code",
   "execution_count": 47,
   "id": "86851530-7b95-4b41-b5b8-f5f51ff79cca",
   "metadata": {},
   "outputs": [
    {
     "name": "stdout",
     "output_type": "stream",
     "text": [
      "oct-08_singapore.txt -------> 10-08-singapore.txt\n",
      "jul-10_cairo.txt -------> 07-10-cairo.txt\n",
      "may-15_dhaka.txt -------> 05-15-dhaka.txt\n",
      "may-13_cairo.txt -------> 05-13-cairo.txt\n",
      "oct-21_cairo.txt -------> 10-21-cairo.txt\n",
      "jan-10_singapore.txt -------> 01-10-singapore.txt\n",
      "jun-20_tokyo.txt -------> 06-20-tokyo.txt\n",
      "aug-06_jakarta.txt -------> 08-06-jakarta.txt\n",
      "dec-21_karachi.txt -------> 12-21-karachi.txt\n",
      "jan-01_tokyo.txt -------> 01-01-tokyo.txt\n"
     ]
    }
   ],
   "source": [
    "file_list = ['oct-08_singapore.txt', 'jul-10_cairo.txt', 'may-15_dhaka.txt',\n",
    " 'may-13_cairo.txt', 'oct-21_cairo.txt', 'jan-10_singapore.txt',\n",
    " 'jun-20_tokyo.txt', 'aug-06_jakarta.txt', 'dec-21_karachi.txt',\n",
    " 'jan-01_tokyo.txt']\n",
    "\n",
    "for file_name in file_list:\n",
    "    print(f'{file_name} -------> {rename_my_file(file_name)}')"
   ]
  },
  {
   "cell_type": "markdown",
   "id": "bbcf3e2b-9f98-425b-80a3-0701e9848d19",
   "metadata": {},
   "source": [
    "## Task 4"
   ]
  },
  {
   "cell_type": "code",
   "execution_count": 54,
   "id": "87a87df1-827d-4085-a741-22a90d78ae24",
   "metadata": {},
   "outputs": [],
   "source": [
    "import os\n",
    "import glob\n",
    "\n",
    "def rename_my_file(file_name):\n",
    "\n",
    "    months_dict = {\n",
    "'jan': '01', 'feb': '02', 'mar': '03',\n",
    "'apr': '04', 'may': '05', 'jun': '06',\n",
    "'jul': '07', 'aug': '08', 'sep': '09',\n",
    "'oct': '10', 'nov': '11', 'dec': '12'\n",
    "}\n",
    "\n",
    "    for month,num in months_dict.items():\n",
    "        file_name = file_name.replace(month,num)\n",
    "        file_name = file_name.replace(\"_\",\"-\")\n",
    "    return file_name\n",
    "\n",
    "os.chdir('/Users/duh/Documents/GitHub/learning-portfolio-2024-aug-xingyu-u/os-collaboration-exercise-data')\n",
    "list_txt = glob.glob('*.txt',recursive=True)\n",
    "for file_name in list_txt:\n",
    "    old_name = file_name\n",
    "    new_name = rename_my_file(file_name)\n",
    "    os.rename(old_name,new_name)"
   ]
  },
  {
   "cell_type": "markdown",
   "id": "941384e9-3f6f-4faf-b85d-a21beb91c3f4",
   "metadata": {},
   "source": [
    "## Task 5"
   ]
  },
  {
   "cell_type": "code",
   "execution_count": 55,
   "id": "d8d32ba0-defc-4360-8767-9c77a1c8bfc9",
   "metadata": {},
   "outputs": [],
   "source": [
    "list_city = ['Cairo', 'Dhaka', 'Jakarta', 'Karachi', 'Manila',\n",
    " 'Melbourne', 'Osaka', 'Shanghai', 'Singapore', 'Tokyo']\n",
    "\n",
    "for city in list_city:\n",
    "    os.mkdir(city)"
   ]
  },
  {
   "cell_type": "markdown",
   "id": "1149cd83-710d-4000-b52f-d4c08364eba2",
   "metadata": {},
   "source": [
    "## Task 6"
   ]
  },
  {
   "cell_type": "code",
   "execution_count": 59,
   "id": "74b1721c-d1d8-48c9-b330-36414ef09785",
   "metadata": {},
   "outputs": [],
   "source": [
    "import shutil\n",
    "list_cairo = glob.glob('*cairo.*',recursive=True)\n",
    "for file_name in list_cairo:\n",
    "    shutil.copy(file_name,'Cairo')"
   ]
  },
  {
   "cell_type": "markdown",
   "id": "9c0e54e7-c78d-42d7-8b45-2b220282310c",
   "metadata": {},
   "source": [
    "## Task 7"
   ]
  },
  {
   "cell_type": "code",
   "execution_count": 77,
   "id": "2e639a74-c7bd-46bc-bff9-29137f638c40",
   "metadata": {},
   "outputs": [],
   "source": [
    "list_city = ['Cairo', 'Dhaka', 'Jakarta', 'Karachi', 'Manila',\n",
    " 'Melbourne', 'Osaka', 'Shanghai', 'Singapore', 'Tokyo']\n",
    "\n",
    "for city in list_city:\n",
    "    city_file = glob.glob(f'*{city.lower()}.*',recursive=True)\n",
    "    for file_name in city_file:\n",
    "        path_to_file = os.path.join(city,file_name)\n",
    "        if not os.path.exists(path_to_file):\n",
    "            shutil.move(file_name,path_to_file)\n",
    "\n",
    "#remove extra copy of cairo file\n",
    "for file_name in list_cairo:\n",
    "    os.remove(file_name)"
   ]
  }
 ],
 "metadata": {
  "kernelspec": {
   "display_name": "Python 3 (ipykernel)",
   "language": "python",
   "name": "python3"
  },
  "language_info": {
   "codemirror_mode": {
    "name": "ipython",
    "version": 3
   },
   "file_extension": ".py",
   "mimetype": "text/x-python",
   "name": "python",
   "nbconvert_exporter": "python",
   "pygments_lexer": "ipython3",
   "version": "3.12.2"
  },
  "toc": {
   "base_numbering": 1,
   "nav_menu": {},
   "number_sections": true,
   "sideBar": true,
   "skip_h1_title": false,
   "title_cell": "Table of Contents",
   "title_sidebar": "Contents",
   "toc_cell": false,
   "toc_position": {},
   "toc_section_display": true,
   "toc_window_display": false
  },
  "vscode": {
   "interpreter": {
    "hash": "31f2aee4e71d21fbe5cf8b01ff0e069b9275f58929596ceb00d14d90e3e16cd6"
   }
  }
 },
 "nbformat": 4,
 "nbformat_minor": 5
}
